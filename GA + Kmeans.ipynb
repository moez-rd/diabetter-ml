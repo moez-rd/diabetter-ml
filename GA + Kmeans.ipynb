{
 "cells": [
  {
   "cell_type": "code",
   "execution_count": 113,
   "metadata": {},
   "outputs": [],
   "source": [
    "import pandas as pd\n",
    "import numpy as np\n",
    "import random\n",
    "from itertools import combinations\n",
    "from sklearn.model_selection import train_test_split\n",
    "from sklearn.ensemble import RandomForestRegressor\n",
    "from sklearn.metrics import mean_squared_error\n",
    "from sklearn.cluster import KMeans"
   ]
  },
  {
   "cell_type": "code",
   "execution_count": 114,
   "metadata": {},
   "outputs": [
    {
     "name": "stdout",
     "output_type": "stream",
     "text": [
      "{'imt': 19.369834710743802, 'bmr': 1625.2, 'total_kalori': 3494.1800000000003, 'karbohidrat_gram': 524.1270000000001, 'protein_gram': 131.03175000000002, 'lemak_gram': 97.06055555555557}\n"
     ]
    }
   ],
   "source": [
    "berat_badan = 60\n",
    "tinggi = 176\n",
    "usia = 21\n",
    "jenis_kelamin = 'pria'\n",
    "faktor_aktivitas = 1.55   \n",
    "koreksi_umur = 0.6  \n",
    "koreksi_kerangka_tubuh = 0.2\n",
    "\n",
    "def hitung_akg(berat_badan, tinggi, usia, jenis_kelamin, faktor_aktivitas, koreksi_umur, koreksi_kerangka_tubuh):\n",
    "    tinggi_m = tinggi / 100\n",
    "    imt = berat_badan / (tinggi_m ** 2)\n",
    "    \n",
    "    if jenis_kelamin.lower() == 'pria':\n",
    "        bmr = 66 + (13.7 * berat_badan) + (5 * tinggi) - (6.8 * usia)\n",
    "    elif jenis_kelamin.lower() == 'wanita':\n",
    "        bmr = 665 + (9.6 * berat_badan) + (1.8 * tinggi) - (4.7 * usia)\n",
    "    else:\n",
    "        return \"Jenis kelamin tidak valid. Masukkan 'pria' atau 'wanita'.\"\n",
    "\n",
    "    faktor_aktivitas = faktor_aktivitas * bmr\n",
    "    faktor_umur = koreksi_umur * bmr\n",
    "    faktor_tubuh = koreksi_kerangka_tubuh * bmr\n",
    "    \n",
    "    total_kalori = (bmr + faktor_aktivitas) - faktor_umur + faktor_tubuh\n",
    "    \n",
    "    karbohidrat_kalori = 0.6 * total_kalori\n",
    "    protein_kalori = 0.15 * total_kalori\n",
    "    lemak_kalori = 0.25 * total_kalori\n",
    "\n",
    "    karbohidrat_gram = karbohidrat_kalori / 4\n",
    "    protein_gram = protein_kalori / 4\n",
    "    lemak_gram = lemak_kalori / 9\n",
    "\n",
    "    return {\n",
    "        \"imt\": imt,\n",
    "        \"bmr\": bmr,\n",
    "        \"total_kalori\": total_kalori,\n",
    "        \"karbohidrat_gram\": karbohidrat_gram,\n",
    "        \"protein_gram\": protein_gram,\n",
    "        \"lemak_gram\": lemak_gram\n",
    "    }\n",
    "\n",
    "kebutuhan_gizi = hitung_akg(berat_badan, tinggi, usia, jenis_kelamin, faktor_aktivitas, koreksi_umur, koreksi_kerangka_tubuh)\n",
    "\n",
    "print(kebutuhan_gizi)\n"
   ]
  },
  {
   "cell_type": "code",
   "execution_count": 115,
   "metadata": {},
   "outputs": [
    {
     "name": "stderr",
     "output_type": "stream",
     "text": [
      "c:\\Users\\muamm\\miniconda3\\envs\\pds\\lib\\site-packages\\sklearn\\cluster\\_kmeans.py:1416: FutureWarning: The default value of `n_init` will change from 10 to 'auto' in 1.4. Set the value of `n_init` explicitly to suppress the warning\n",
      "  super()._check_params_vs_input(X, default_n_init=10)\n",
      "c:\\Users\\muamm\\miniconda3\\envs\\pds\\lib\\site-packages\\sklearn\\cluster\\_kmeans.py:1440: UserWarning: KMeans is known to have a memory leak on Windows with MKL, when there are less chunks than available threads. You can avoid it by setting the environment variable OMP_NUM_THREADS=3.\n",
      "  warnings.warn(\n"
     ]
    }
   ],
   "source": [
    "df = pd.read_csv('raw_clean.csv')\n",
    "\n",
    "for col in ['Kalori', 'Karbohidrat', 'Protein', 'Lemak', 'Rating']:\n",
    "    df[col] = df[col].astype(str).str.replace(',', '.').astype(float)\n",
    "\n",
    "X = df[['Kalori', 'Karbohidrat', 'Protein', 'Lemak']].values\n",
    "y = df['Rating'].values\n",
    "\n",
    "kmeans = KMeans(n_clusters=5, random_state=42) \n",
    "df['Cluster'] = kmeans.fit_predict(X)\n",
    "\n",
    "def calculate_nutrition_distance(features, target_features):\n",
    "    return np.sqrt(np.sum((features - target_features) ** 2))"
   ]
  },
  {
   "cell_type": "code",
   "execution_count": 116,
   "metadata": {},
   "outputs": [],
   "source": [
    "def fitness_function(combination, target_features, valid_X, cluster_labels):\n",
    "    combined_features = np.sum(valid_X[list(combination)], axis=0)\n",
    "    distance = calculate_nutrition_distance(combined_features, target_features)\n",
    "    diversity_score = len(set(cluster_labels[list(combination)])) \n",
    "    return diversity_score / (distance + 1e-6)\n",
    "\n",
    "# Fungsi untuk merekomendasikan makanan menggunakan algoritma genetika\n",
    "def recommend_meals_ga(target_features, valid_X, cluster_labels, population_size=100, num_generations=100):\n",
    "    num_meals = len(valid_X)\n",
    "\n",
    "    population = [random.sample(range(num_meals), 10) for _ in range(population_size)]\n",
    "\n",
    "    for generation in range(num_generations):\n",
    "        fitness_scores = [fitness_function(individual, target_features, valid_X, cluster_labels) for individual in population]\n",
    "\n",
    "        best_individual = population[np.argmax(fitness_scores)]\n",
    "        best_fitness = max(fitness_scores)\n",
    "\n",
    "        if best_fitness > 0.99:\n",
    "            break\n",
    "\n",
    "        new_population = []\n",
    "        for _ in range(population_size):\n",
    "            if random.random() < 0.2:\n",
    "                new_individual = list(random.sample(range(num_meals), 10))\n",
    "            else:\n",
    "                parent1, parent2 = random.sample(population, 2)\n",
    "                crossover_point = random.randint(0, 2)\n",
    "                new_individual = parent1[:crossover_point] + parent2[crossover_point:]\n",
    "            new_population.append(new_individual)\n",
    "        population = new_population\n",
    "\n",
    "    best_combination = best_individual\n",
    "    recommended_meals = valid_X[list(best_combination)]\n",
    "    return best_combination, recommended_meals\n"
   ]
  },
  {
   "cell_type": "code",
   "execution_count": 117,
   "metadata": {},
   "outputs": [
    {
     "name": "stdout",
     "output_type": "stream",
     "text": [
      "Total Kalori: 3494.1800000000003 kalori per hari\n",
      "Kebutuhan Karbohidrat: 524.1270000000001 gram per hari\n",
      "Kebutuhan Protein: 131.03175000000002 gram per hari\n",
      "Kebutuhan Lemak: 97.06055555555557 gram per hari\n",
      "Rekomendasi makanan dan kandungan gizinya:\n",
      "Pisang Siam goreng - Kalori: 625.0, Karbohidrat: 8.1, Protein: 1.0, Lemak: 0.0\n",
      "Kalio kikil (tunjang)  - Kalori: 122.0, Karbohidrat: 3.9, Protein: 13.8, Lemak: 5.7\n",
      "Bagea kelapa manis - Kalori: 452.0, Karbohidrat: 80.6, Protein: 1.3, Lemak: 13.8\n"
     ]
    }
   ],
   "source": [
    "target_features = np.array([kebutuhan_gizi[\"total_kalori\"], kebutuhan_gizi[\"karbohidrat_gram\"], kebutuhan_gizi[\"protein_gram\"], kebutuhan_gizi[\"lemak_gram\"]])\n",
    "\n",
    "valid_indices = np.where(np.any(X != 0, axis=1))[0]\n",
    "valid_data = df.iloc[valid_indices]\n",
    "valid_X = valid_data[['Kalori', 'Karbohidrat', 'Protein', 'Lemak']].values\n",
    "cluster_labels = valid_data['Cluster'].values\n",
    "\n",
    "best_combination, recommended_meals = recommend_meals_ga(target_features, valid_X, cluster_labels)\n",
    "print(\"Total Kalori:\", kebutuhan_gizi[\"total_kalori\"], \"kalori per hari\")\n",
    "print(\"Kebutuhan Karbohidrat:\", kebutuhan_gizi[\"karbohidrat_gram\"], \"gram per hari\")\n",
    "print(\"Kebutuhan Protein:\", kebutuhan_gizi[\"protein_gram\"], \"gram per hari\")\n",
    "print(\"Kebutuhan Lemak:\", kebutuhan_gizi[\"lemak_gram\"], \"gram per hari\")\n",
    "print(\"Rekomendasi makanan dan kandungan gizinya:\")\n",
    "for idx in best_combination:\n",
    "    meal = valid_data.iloc[idx]\n",
    "    print(f\"{meal['Nama']} - Kalori: {meal['Kalori']}, Karbohidrat: {meal['Karbohidrat']}, Protein: {meal['Protein']}, Lemak: {meal['Lemak']}\")\n"
   ]
  }
 ],
 "metadata": {
  "kernelspec": {
   "display_name": "pds",
   "language": "python",
   "name": "python3"
  },
  "language_info": {
   "codemirror_mode": {
    "name": "ipython",
    "version": 3
   },
   "file_extension": ".py",
   "mimetype": "text/x-python",
   "name": "python",
   "nbconvert_exporter": "python",
   "pygments_lexer": "ipython3",
   "version": "3.9.16"
  }
 },
 "nbformat": 4,
 "nbformat_minor": 2
}
